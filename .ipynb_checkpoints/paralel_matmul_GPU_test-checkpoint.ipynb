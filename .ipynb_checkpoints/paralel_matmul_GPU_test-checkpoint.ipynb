{
 "cells": [
  {
   "cell_type": "code",
   "execution_count": 1,
   "id": "7497aaf6-7d32-4cfe-a593-c6d6800fd3a0",
   "metadata": {},
   "outputs": [],
   "source": [
    "import sys\n",
    "sys.path.append('./paralel_planarity_criterion')\n",
    "\n",
    "import numpy as np\n",
    "import random, time\n",
    "\n",
    "import paralel_methods as pm\n",
    "from SAT2_solver import SAT2_solver"
   ]
  },
  {
   "cell_type": "code",
   "execution_count": 2,
   "id": "07ebd585-11ad-4b69-8128-95ac915926fb",
   "metadata": {},
   "outputs": [
    {
     "name": "stdout",
     "output_type": "stream",
     "text": [
      "Using seed: 2545199465\n"
     ]
    }
   ],
   "source": [
    "# 🎲 Generate a random seed\n",
    "seed = random.randint(0, 2**32 - 1)\n",
    "print(\"Using seed:\", seed)\n",
    "\n",
    "# 🌱 Seed NumPy’s RNG\n",
    "np.random.seed(seed)"
   ]
  },
  {
   "cell_type": "code",
   "execution_count": 5,
   "id": "6e3e176c-fc1b-4227-826b-7a837618e3f2",
   "metadata": {},
   "outputs": [
    {
     "name": "stdout",
     "output_type": "stream",
     "text": [
      "\n",
      "Matriz A:\n",
      "[[1 1 1 ... 1 1 0]\n",
      " [1 0 0 ... 1 0 0]\n",
      " [0 1 1 ... 1 0 1]\n",
      " ...\n",
      " [1 0 1 ... 1 0 0]\n",
      " [0 1 1 ... 1 0 0]\n",
      " [0 1 1 ... 1 1 0]]\n",
      "\n",
      "Matriz B:\n",
      "[[1 1 0 ... 1 0 0]\n",
      " [1 0 1 ... 0 1 1]\n",
      " [1 0 1 ... 1 1 1]\n",
      " ...\n",
      " [1 1 1 ... 1 1 1]\n",
      " [1 0 0 ... 0 0 1]\n",
      " [0 0 1 ... 0 0 0]]\n",
      "\n",
      "----------------------------\n",
      "Paralel GPU implementation\n",
      "GPU OR-AND Time: 209.06 ms\n",
      "\n",
      "Resultado C (OR-AND):\n",
      "[[1 1 1 ... 1 1 1]\n",
      " [1 1 1 ... 1 1 1]\n",
      " [1 1 1 ... 1 1 1]\n",
      " ...\n",
      " [1 1 1 ... 1 1 1]\n",
      " [1 1 1 ... 1 1 1]\n",
      " [1 1 1 ... 1 1 1]]\n",
      "\n",
      "--------------------------\n",
      "Sequential CPU implementation\n",
      "CPU OR-AND Time: 1832.10 ms\n",
      "\n",
      "Resultado C (OR-AND):\n",
      "[[1 1 1 ... 1 1 1]\n",
      " [1 1 1 ... 1 1 1]\n",
      " [1 1 1 ... 1 1 1]\n",
      " ...\n",
      " [1 1 1 ... 1 1 1]\n",
      " [1 1 1 ... 1 1 1]\n",
      " [1 1 1 ... 1 1 1]]\n"
     ]
    }
   ],
   "source": [
    "N = 250 \n",
    "A = np.random.randint(0, 2, size=(N, N)).astype(np.int8)\n",
    "B = A.T.copy() \n",
    "\n",
    "start_cpu = time.perf_counter()\n",
    "C_paralel = pm.multiply_or_and(A, B)\n",
    "end_cpu = time.perf_counter()\n",
    "\n",
    "print(\"\\nMatriz A:\")\n",
    "print(A)\n",
    "print(\"\\nMatriz B:\")\n",
    "print(B)\n",
    "print()\n",
    "print(\"----------------------------\")\n",
    "print(\"Paralel GPU implementation\")\n",
    "print(f\"GPU OR-AND Time: {(end_cpu - start_cpu)*1000:.2f} ms\")\n",
    "print(\"\\nResultado C (OR-AND):\")\n",
    "print(C_paralel)\n",
    "\n",
    "\n",
    "# --- CPU: Pure Python ---\n",
    "solver = SAT2_solver()\n",
    "\n",
    "start_cpu = time.time()\n",
    "C_sequential = solver.mult_matrix_or_and(A.tolist(), B.tolist())  # Convert np arrays to lists\n",
    "end_cpu = time.time()\n",
    "\n",
    "print()\n",
    "print(\"--------------------------\")\n",
    "print(\"Sequential CPU implementation\")\n",
    "print(f\"CPU OR-AND Time: {(end_cpu - start_cpu)*1000:.2f} ms\")\n",
    "print(\"\\nResultado C (OR-AND):\")\n",
    "print(np.array(C_sequential, dtype=np.int8))"
   ]
  },
  {
   "cell_type": "code",
   "execution_count": 4,
   "id": "811aad03-5de8-4b8a-b984-0840f5f9810f",
   "metadata": {},
   "outputs": [
    {
     "name": "stdout",
     "output_type": "stream",
     "text": [
      "\n",
      "================== RESULTADOS FINALES ==================\n",
      " Tamaño de Matriz  Tiempo Promedio GPU (ms)  Tiempo Promedio CPU (ms)\n",
      "               10                  34.19126                   0.26788\n",
      "               30                  30.77398                   3.77488\n",
      "               50                  28.87600                  13.31368\n",
      "               70                  30.75938                  34.90046\n",
      "               90                  33.07840                  78.01806\n",
      "              110                  41.12534                 161.15190\n",
      "              130                  48.27518                 261.55400\n",
      "              150                  42.57560                 416.75880\n",
      "              170                  56.59502                 562.83810\n",
      "              190                  72.64700                 757.38408\n",
      "              210                  86.87508                 899.19676\n",
      "              230                 102.13194                1068.14258\n",
      "              250                 110.77592                1344.82438\n"
     ]
    }
   ],
   "source": [
    "import numpy as np\n",
    "import time\n",
    "from SAT2_solver import SAT2_solver\n",
    "import pandas as pd\n",
    "\n",
    "solver = SAT2_solver()\n",
    "\n",
    "# Parámetros\n",
    "sizes = list(range(10, 251, 20))  # Tamaños de matriz desde 10 hasta 250 en pasos de 20\n",
    "repeticiones = 5  # Número de repeticiones por tamaño\n",
    "\n",
    "# Resultados acumulados\n",
    "resultados = []\n",
    "\n",
    "for N in sizes:\n",
    "    tiempos_gpu = []\n",
    "    tiempos_cpu = []\n",
    "    \n",
    "    for _ in range(repeticiones):\n",
    "        A = np.random.randint(0, 2, size=(N, N)).astype(np.int8)\n",
    "        B = A.T.copy()\n",
    "\n",
    "        # GPU Paralelo \n",
    "        start_gpu = time.perf_counter()\n",
    "        _ = pm.multiply_or_and(A, B)\n",
    "        end_gpu = time.perf_counter()\n",
    "        tiempos_gpu.append((end_gpu - start_gpu) * 1000)\n",
    "\n",
    "        # CPU Secuencial\n",
    "        start_cpu = time.perf_counter()\n",
    "        _ = solver.mult_matrix_or_and(A.tolist(), B.tolist())\n",
    "        end_cpu = time.perf_counter()\n",
    "        tiempos_cpu.append((end_cpu - start_cpu) * 1000)\n",
    "\n",
    "    resultados.append({\n",
    "        \"Tamaño de Matriz\": N,\n",
    "        \"Tiempo Promedio GPU (ms)\": np.mean(tiempos_gpu),\n",
    "        \"Tiempo Promedio CPU (ms)\": np.mean(tiempos_cpu)\n",
    "    })\n",
    "\n",
    "# Mostrar resultados como tabla\n",
    "df = pd.DataFrame(resultados)\n",
    "print(\"\\n================== RESULTADOS FINALES ==================\")\n",
    "print(df.to_string(index=False))\n",
    "\n"
   ]
  }
 ],
 "metadata": {
  "kernelspec": {
   "display_name": "Python 3 (ipykernel)",
   "language": "python",
   "name": "python3"
  },
  "language_info": {
   "codemirror_mode": {
    "name": "ipython",
    "version": 3
   },
   "file_extension": ".py",
   "mimetype": "text/x-python",
   "name": "python",
   "nbconvert_exporter": "python",
   "pygments_lexer": "ipython3",
   "version": "3.11.11"
  }
 },
 "nbformat": 4,
 "nbformat_minor": 5
}
