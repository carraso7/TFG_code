{
 "cells": [
  {
   "cell_type": "code",
   "execution_count": 1,
   "id": "7497aaf6-7d32-4cfe-a593-c6d6800fd3a0",
   "metadata": {},
   "outputs": [],
   "source": [
    "import sys\n",
    "sys.path.append('./paralel_planarity_criterion')\n",
    "\n",
    "import numpy as np\n",
    "import random, time\n",
    "\n",
    "import paralel_methods as pm\n",
    "from SAT2_solver import SAT2_solver"
   ]
  },
  {
   "cell_type": "code",
   "execution_count": 2,
   "id": "07ebd585-11ad-4b69-8128-95ac915926fb",
   "metadata": {},
   "outputs": [
    {
     "name": "stdout",
     "output_type": "stream",
     "text": [
      "Using seed: 3558602060\n"
     ]
    }
   ],
   "source": [
    "# 🎲 Generate a random seed\n",
    "seed = random.randint(0, 2**32 - 1)\n",
    "print(\"Using seed:\", seed)\n",
    "\n",
    "# 🌱 Seed NumPy’s RNG\n",
    "np.random.seed(seed)"
   ]
  },
  {
   "cell_type": "code",
   "execution_count": 3,
   "id": "6e3e176c-fc1b-4227-826b-7a837618e3f2",
   "metadata": {},
   "outputs": [
    {
     "name": "stdout",
     "output_type": "stream",
     "text": [
      "\n",
      "Matriz A:\n",
      "[[1 1 1 ... 1 1 0]\n",
      " [0 1 0 ... 1 1 1]\n",
      " [1 1 0 ... 1 1 0]\n",
      " ...\n",
      " [1 1 1 ... 1 0 0]\n",
      " [1 1 0 ... 1 1 1]\n",
      " [1 1 1 ... 1 1 0]]\n",
      "\n",
      "Matriz B:\n",
      "[[1 0 1 ... 1 1 1]\n",
      " [1 1 1 ... 1 1 1]\n",
      " [1 0 0 ... 1 0 1]\n",
      " ...\n",
      " [1 1 1 ... 1 1 1]\n",
      " [1 1 1 ... 0 1 1]\n",
      " [0 1 0 ... 0 1 0]]\n",
      "\n",
      "----------------------------\n",
      "Paralel GPU implementation\n",
      "GPU OR-AND Time: 443.14 ms\n",
      "Type of C: <class 'numpy.ndarray'>\n",
      "\n",
      "Resultado C (OR-AND):\n",
      "[[1 1 1 ... 1 1 1]\n",
      " [1 1 1 ... 1 1 1]\n",
      " [1 1 1 ... 1 1 1]\n",
      " ...\n",
      " [1 1 1 ... 1 1 1]\n",
      " [1 1 1 ... 1 1 1]\n",
      " [1 1 1 ... 1 1 1]]\n",
      "\n",
      "--------------------------\n",
      "Sequential CPU implementation\n",
      "CPU OR-AND Time: 992.72 ms\n",
      "Type of C: <class 'list'>\n",
      "\n",
      "Resultado C (OR-AND):\n",
      "[[1 1 1 ... 1 1 1]\n",
      " [1 1 1 ... 1 1 1]\n",
      " [1 1 1 ... 1 1 1]\n",
      " ...\n",
      " [1 1 1 ... 1 1 1]\n",
      " [1 1 1 ... 1 1 1]\n",
      " [1 1 1 ... 1 1 1]]\n"
     ]
    }
   ],
   "source": [
    "N = 250 # With N=200 GPU is faster. From 257 We get clEnqueueNDRangeKernel failed: INVALID_WORK_GROUP_SIZE\n",
    "A = np.random.randint(0, 2, size=(N, N)).astype(np.int8)\n",
    "B = A.T.copy() \n",
    "\n",
    "start_cpu = time.perf_counter()\n",
    "C_paralel = pm.multiply_or_and(A, B)\n",
    "end_cpu = time.perf_counter()\n",
    "\n",
    "print(\"\\nMatriz A:\")\n",
    "print(A)\n",
    "print(\"\\nMatriz B:\")\n",
    "print(B)\n",
    "print()\n",
    "print(\"----------------------------\")\n",
    "print(\"Paralel GPU implementation\")\n",
    "print(f\"GPU OR-AND Time: {(end_cpu - start_cpu)*1000:.2f} ms\")\n",
    "print(\"Type of C:\", type(C_paralel))\n",
    "print(\"\\nResultado C (OR-AND):\")\n",
    "print(C_paralel)\n",
    "\n",
    "\n",
    "# --- CPU: Pure Python ---\n",
    "solver = SAT2_solver()\n",
    "\n",
    "start_cpu = time.time()\n",
    "C_sequential = solver.mult_matrix_or_and(A.tolist(), B.tolist())  # Convert np arrays to lists\n",
    "end_cpu = time.time()\n",
    "\n",
    "print()\n",
    "print(\"--------------------------\")\n",
    "print(\"Sequential CPU implementation\")\n",
    "print(f\"CPU OR-AND Time: {(end_cpu - start_cpu)*1000:.2f} ms\")\n",
    "print(\"Type of C:\", type(C_sequential))\n",
    "print(\"\\nResultado C (OR-AND):\")\n",
    "print(np.array(C_sequential, dtype=np.int8))"
   ]
  },
  {
   "cell_type": "code",
   "execution_count": 5,
   "id": "811aad03-5de8-4b8a-b984-0840f5f9810f",
   "metadata": {},
   "outputs": [
    {
     "name": "stdout",
     "output_type": "stream",
     "text": [
      "\n",
      "================== RESULTADOS FINALES ==================\n",
      " Tamaño de Matriz  Tiempo Promedio GPU (ms)  Tiempo Promedio CPU (ms)\n",
      "               10                  23.74556                   0.22970\n",
      "               30                  24.63880                   2.72590\n",
      "               50                  24.18608                  10.09286\n",
      "               70                  25.90630                  25.08000\n",
      "               90                  27.43838                  55.15986\n",
      "              110                  31.06080                  98.23894\n",
      "              130                  34.85616                 156.39568\n",
      "              150                  39.76218                 231.23026\n",
      "              170                  53.00996                 363.20562\n",
      "              190                  63.08996                 461.11724\n",
      "              210                  70.98028                 605.66044\n",
      "              230                  82.45220                 770.75622\n",
      "              250                 101.07134                 986.26396\n"
     ]
    }
   ],
   "source": [
    "import numpy as np\n",
    "import time\n",
    "from SAT2_solver import SAT2_solver\n",
    "import pandas as pd\n",
    "\n",
    "solver = SAT2_solver()\n",
    "\n",
    "# Parámetros\n",
    "sizes = list(range(10, 251, 20))  # Tamaños de matriz desde 10 hasta 250 en pasos de 20\n",
    "repeticiones = 5  # Número de repeticiones por tamaño\n",
    "\n",
    "# Resultados acumulados\n",
    "resultados = []\n",
    "\n",
    "for N in sizes:\n",
    "    tiempos_gpu = []\n",
    "    tiempos_cpu = []\n",
    "    \n",
    "    for _ in range(repeticiones):\n",
    "        A = np.random.randint(0, 2, size=(N, N)).astype(np.int8)\n",
    "        B = A.T.copy()\n",
    "\n",
    "        # GPU Paralelo (simulado)\n",
    "        start_gpu = time.perf_counter()\n",
    "        _ = pm.multiply_or_and(A, B)\n",
    "        end_gpu = time.perf_counter()\n",
    "        tiempos_gpu.append((end_gpu - start_gpu) * 1000)\n",
    "\n",
    "        # CPU Secuencial\n",
    "        start_cpu = time.perf_counter()\n",
    "        _ = solver.mult_matrix_or_and(A.tolist(), B.tolist())\n",
    "        end_cpu = time.perf_counter()\n",
    "        tiempos_cpu.append((end_cpu - start_cpu) * 1000)\n",
    "\n",
    "    resultados.append({\n",
    "        \"Tamaño de Matriz\": N,\n",
    "        \"Tiempo Promedio GPU (ms)\": np.mean(tiempos_gpu),\n",
    "        \"Tiempo Promedio CPU (ms)\": np.mean(tiempos_cpu)\n",
    "    })\n",
    "\n",
    "# Mostrar resultados como tabla\n",
    "df = pd.DataFrame(resultados)\n",
    "print(\"\\n================== RESULTADOS FINALES ==================\")\n",
    "print(df.to_string(index=False))\n",
    "\n"
   ]
  }
 ],
 "metadata": {
  "kernelspec": {
   "display_name": "Python 3 (ipykernel)",
   "language": "python",
   "name": "python3"
  },
  "language_info": {
   "codemirror_mode": {
    "name": "ipython",
    "version": 3
   },
   "file_extension": ".py",
   "mimetype": "text/x-python",
   "name": "python",
   "nbconvert_exporter": "python",
   "pygments_lexer": "ipython3",
   "version": "3.11.11"
  }
 },
 "nbformat": 4,
 "nbformat_minor": 5
}
