{
 "cells": [
  {
   "cell_type": "code",
   "execution_count": 1,
   "id": "698f835a-050b-46ae-aedd-12d690be396d",
   "metadata": {},
   "outputs": [],
   "source": [
    "import networkx as nx\n",
    "import matplotlib.pyplot as plt\n",
    "import random\n",
    "import planarity_criterion as pc \n",
    "\n",
    "planarity_crit = pc.PlanarityCriterion()\n",
    "solver_CNF = pc.CNF2Solver()"
   ]
  },
  {
   "cell_type": "code",
   "execution_count": 2,
   "id": "9fd251e4-afe3-42d4-ba75-076ff9967613",
   "metadata": {},
   "outputs": [
    {
     "name": "stdout",
     "output_type": "stream",
     "text": [
      "Seed:  5079\n"
     ]
    },
    {
     "data": {
      "image/png": "[encoded data removed]",
      "text/plain": [
       "<Figure size 600x600 with 1 Axes>"
      ]
     },
     "metadata": {},
     "output_type": "display_data"
    }
   ],
   "source": [
    "### CREATE A RANDOM GRAPH G ###\n",
    "\n",
    "\n",
    "# Generate a random seed first\n",
    "seed_value = random.randint(0, 10000)  # Random seed between 0 and 10000\n",
    "random.seed(seed_value)\n",
    "print(\"Seed: \", seed_value)\n",
    "\n",
    "# Parameters\n",
    "n = 7 # Number of nodes\n",
    "p = 0.35 # Probability of edge creation\n",
    "\n",
    "# Generate a random connected Erdős-Rényi graph\n",
    "G = nx.erdos_renyi_graph(n, p)\n",
    "while not nx.is_connected(G):\n",
    "    G = nx.erdos_renyi_graph(n, p)\n",
    "\n",
    "# Draw the graph\n",
    "plt.figure(figsize=(6, 6))\n",
    "nx.draw(G, with_labels=True, node_color='skyblue', node_size=700, edge_color='gray')\n",
    "plt.show()"
   ]
  },
  {
   "cell_type": "code",
   "execution_count": 3,
   "id": "9b66ef44-7206-4b0e-9a03-e3a1a97a470b",
   "metadata": {},
   "outputs": [
    {
     "name": "stdout",
     "output_type": "stream",
     "text": [
      "[(0, 2), (2, 5), (5, 6), (6, 3), (3, 4), (4, 1)]\n"
     ]
    }
   ],
   "source": [
    "### CREATE SPANNING TREE ###\n",
    "spanning_tree = planarity_crit.spanning_tree(G)\n",
    "print(spanning_tree.edges)"
   ]
  },
  {
   "cell_type": "code",
   "execution_count": 4,
   "id": "5d1ed87d-46b7-4fcb-a297-8caafa2499c9",
   "metadata": {},
   "outputs": [],
   "source": [
    "### PRINT SPANNING TREE ### TODO"
   ]
  },
  {
   "cell_type": "code",
   "execution_count": 5,
   "id": "9df19a7c-0082-43a6-8d87-c32f4e6a41b4",
   "metadata": {},
   "outputs": [
    {
     "name": "stdout",
     "output_type": "stream",
     "text": [
      "[[0, 2, 5, 6, 3, 0], [0, 2, 5, 0], [2, 5, 6, 2]]\n"
     ]
    }
   ],
   "source": [
    "### GENERATE SET OF FUNDAMENTAL CYCLES ### \n",
    "\n",
    "fundamental_cycles = planarity_crit.fundamental_cycles(G, spanning_tree)\n",
    "print(fundamental_cycles)"
   ]
  },
  {
   "cell_type": "code",
   "execution_count": 6,
   "id": "b8be1d53-3d8c-436b-b7dc-01812d7543b3",
   "metadata": {},
   "outputs": [
    {
     "name": "stdout",
     "output_type": "stream",
     "text": [
      "{(0, 2, 5, 6, 3, 0): [{'edges': [(0, 5)], 'att_ver': {0, 5}}, {'edges': [(1, 4), (4, 3)], 'att_ver': {3}}, {'edges': [(2, 6)], 'att_ver': {2, 6}}], (0, 2, 5, 0): [{'edges': [(0, 3), (3, 4), (3, 6), (4, 1), (6, 2), (6, 5)], 'att_ver': {0, 2, 5}}], (2, 5, 6, 2): [{'edges': [(0, 2), (0, 3), (0, 5), (3, 4), (3, 6), (4, 1)], 'att_ver': {2, 5, 6}}]}\n"
     ]
    }
   ],
   "source": [
    "### GET BRIDGES OF EACH CYCLE ###\n",
    "\n",
    "bridges_all_cycles = planarity_crit.get_bridges(G, fundamental_cycles)\n",
    "print(bridges_all_cycles)"
   ]
  },
  {
   "cell_type": "code",
   "execution_count": 7,
   "id": "3b39afcc-08ad-4499-b5de-6e710259785c",
   "metadata": {},
   "outputs": [],
   "source": [
    "### PRINT BRIDGES OF EACH CYCLE ### TODO"
   ]
  },
  {
   "cell_type": "code",
   "execution_count": 8,
   "id": "1e3b8871-21bc-47ba-9490-3cd59be7b868",
   "metadata": {},
   "outputs": [
    {
     "name": "stdout",
     "output_type": "stream",
     "text": [
      "[[[set(), set(), set(), set()], [set(), set(), set(), set()], [{((0, 5), 2), ((4, 1), 2), ((0, 3), 2), ((3, 6), 2), ((3, 4), 2)}, {((2, 6), 0), ((2, 6), 1), ((5, 6), 1)}, set(), {((0, 5), 2), ((4, 1), 2), ((0, 3), 2), ((3, 6), 2), ((3, 4), 2)}]], [[set(), set(), set(), set()], [{((6, 2), 1), ((3, 4), 1), ((3, 6), 1), ((6, 5), 1), ((4, 1), 1)}, {((0, 5), 0)}, set(), {((6, 2), 1), ((3, 4), 1), ((3, 6), 1), ((6, 5), 1), ((4, 1), 1)}], [{((0, 5), 2), ((4, 1), 2), ((0, 2), 2), ((3, 6), 2), ((3, 4), 2)}, {((2, 6), 0)}, set(), {((0, 5), 2), ((4, 1), 2), ((0, 2), 2), ((3, 6), 2), ((3, 4), 2)}]], [[{((2, 6), 0)}, {((0, 3), 1), ((3, 6), 1), ((5, 6), 1)}, set(), {((2, 6), 0)}], [set(), set(), set(), set()], [{((4, 1), 2), ((0, 3), 2), ((0, 2), 2), ((3, 6), 2), ((3, 4), 2)}, {((2, 6), 1), ((5, 6), 1)}, set(), {((4, 1), 2), ((0, 3), 2), ((0, 2), 2), ((3, 6), 2), ((3, 4), 2)}]], [[{((4, 3), 0)}, set(), set(), {((4, 3), 0)}], [{((0, 3), 1), ((6, 2), 1), ((3, 4), 1), ((3, 6), 1), ((6, 5), 1)}, set(), set(), {((0, 3), 1), ((6, 2), 1), ((3, 4), 1), ((3, 6), 1), ((6, 5), 1)}], [{((0, 5), 2), ((0, 3), 2), ((0, 2), 2), ((3, 6), 2), ((3, 4), 2)}, set(), set(), {((0, 5), 2), ((0, 3), 2), ((0, 2), 2), ((3, 6), 2), ((3, 4), 2)}]], [[set(), set(), set(), set()], [set(), set(), set(), set()], [set(), set(), set(), set()]], [[{((0, 5), 0)}, {((0, 3), 2), ((0, 2), 2), ((3, 6), 2)}, set(), {((0, 5), 0)}], [{((0, 3), 1), ((3, 4), 1), ((3, 6), 1), ((6, 5), 1), ((4, 1), 1)}, {((0, 2), 2), ((0, 5), 2)}, set(), {((0, 3), 1), ((3, 4), 1), ((3, 6), 1), ((6, 5), 1), ((4, 1), 1)}], [set(), set(), set(), set()]], [[{((1, 4), 0)}, set(), set(), {((1, 4), 0)}], [{((0, 3), 1), ((6, 2), 1), ((3, 6), 1), ((6, 5), 1), ((4, 1), 1)}, set(), set(), {((0, 3), 1), ((6, 2), 1), ((3, 6), 1), ((6, 5), 1), ((4, 1), 1)}], [{((0, 5), 2), ((4, 1), 2), ((0, 3), 2), ((0, 2), 2), ((3, 6), 2)}, set(), set(), {((0, 5), 2), ((4, 1), 2), ((0, 3), 2), ((0, 2), 2), ((3, 6), 2)}]], [[set(), set(), set(), set()], [{((0, 3), 1), ((6, 2), 1), ((3, 4), 1), ((6, 5), 1), ((4, 1), 1)}, {((0, 5), 0)}, set(), {((0, 3), 1), ((6, 2), 1), ((3, 4), 1), ((6, 5), 1), ((4, 1), 1)}], [{((0, 5), 2), ((4, 1), 2), ((0, 3), 2), ((0, 2), 2), ((3, 4), 2)}, {((2, 6), 0)}, set(), {((0, 5), 2), ((4, 1), 2), ((0, 3), 2), ((0, 2), 2), ((3, 4), 2)}]], [[set(), set(), set(), set()], [{((0, 3), 1), ((6, 2), 1), ((3, 4), 1), ((3, 6), 1), ((4, 1), 1)}, {((0, 2), 2), ((0, 5), 0), ((0, 5), 2)}, set(), {((0, 3), 1), ((6, 2), 1), ((3, 4), 1), ((3, 6), 1), ((4, 1), 1)}], [set(), set(), set(), set()]]]\n"
     ]
    }
   ],
   "source": [
    "### GET CNF LISTS ###\n",
    "\n",
    "CNF_lists = planarity_crit.get_2_CNF(G, fundamental_cycles, bridges_all_cycles)\n",
    "print(CNF_lists)"
   ]
  },
  {
   "cell_type": "code",
   "execution_count": 9,
   "id": "43934515-8bbe-4f35-901c-2de13d6d9e82",
   "metadata": {},
   "outputs": [],
   "source": [
    "### PRINT CNF LISTS ### TODO"
   ]
  },
  {
   "cell_type": "code",
   "execution_count": 10,
   "id": "66728497-1b54-4db3-8746-a19c9e37829e",
   "metadata": {},
   "outputs": [
    {
     "name": "stdout",
     "output_type": "stream",
     "text": [
      "[[[set(), set(), set(), set()], [set(), set(), set(), set()], [{((0, 5), 2), ((4, 1), 2), ((0, 3), 2), ((0, 2), 2), ((3, 6), 2), ((3, 4), 2)}, {((2, 6), 0), ((2, 6), 1), ((5, 6), 1)}, set(), {((0, 5), 2), ((4, 1), 2), ((0, 3), 2), ((3, 6), 2), ((3, 4), 2)}]], [[set(), set(), set(), set()], [{((6, 2), 1), ((0, 3), 1), ((3, 4), 1), ((3, 6), 1), ((6, 5), 1), ((4, 1), 1)}, {((0, 5), 0)}, set(), {((6, 2), 1), ((3, 4), 1), ((3, 6), 1), ((6, 5), 1), ((4, 1), 1)}], [{((0, 5), 2), ((4, 1), 2), ((0, 3), 2), ((0, 2), 2), ((3, 6), 2), ((3, 4), 2)}, {((2, 6), 0)}, set(), {((0, 5), 2), ((4, 1), 2), ((0, 2), 2), ((3, 6), 2), ((3, 4), 2)}]], [[{((2, 6), 0), ((0, 5), 0)}, {((0, 3), 1), ((3, 6), 1), ((5, 6), 1)}, set(), {((2, 6), 0)}], [set(), set(), set(), set()], [{((0, 5), 2), ((4, 1), 2), ((0, 3), 2), ((0, 2), 2), ((3, 6), 2), ((3, 4), 2)}, {((2, 6), 1), ((5, 6), 1)}, set(), {((4, 1), 2), ((0, 3), 2), ((0, 2), 2), ((3, 6), 2), ((3, 4), 2)}]], [[{((1, 4), 0), ((4, 3), 0)}, set(), set(), {((4, 3), 0)}], [{((0, 3), 1), ((6, 2), 1), ((3, 4), 1), ((3, 6), 1), ((6, 5), 1), ((4, 1), 1)}, set(), set(), {((0, 3), 1), ((6, 2), 1), ((3, 4), 1), ((3, 6), 1), ((6, 5), 1)}], [{((0, 5), 2), ((4, 1), 2), ((0, 3), 2), ((0, 2), 2), ((3, 6), 2), ((3, 4), 2)}, set(), set(), {((0, 5), 2), ((0, 3), 2), ((0, 2), 2), ((3, 6), 2), ((3, 4), 2)}]], [[set(), set(), set(), set()], [set(), set(), set(), set()], [set(), set(), set(), set()]], [[{((2, 6), 0), ((0, 5), 0)}, {((0, 3), 2), ((0, 2), 2), ((3, 6), 2)}, set(), {((0, 5), 0)}], [{((0, 3), 1), ((6, 2), 1), ((3, 4), 1), ((3, 6), 1), ((6, 5), 1), ((4, 1), 1)}, {((0, 2), 2), ((0, 5), 2)}, set(), {((0, 3), 1), ((3, 4), 1), ((3, 6), 1), ((6, 5), 1), ((4, 1), 1)}], [set(), set(), set(), set()]], [[{((1, 4), 0), ((4, 3), 0)}, set(), set(), {((1, 4), 0)}], [{((0, 3), 1), ((6, 2), 1), ((3, 4), 1), ((3, 6), 1), ((6, 5), 1), ((4, 1), 1)}, set(), set(), {((0, 3), 1), ((6, 2), 1), ((3, 6), 1), ((6, 5), 1), ((4, 1), 1)}], [{((0, 5), 2), ((4, 1), 2), ((0, 3), 2), ((0, 2), 2), ((3, 6), 2), ((3, 4), 2)}, set(), set(), {((0, 5), 2), ((4, 1), 2), ((0, 3), 2), ((0, 2), 2), ((3, 6), 2)}]], [[set(), set(), set(), set()], [{((0, 3), 1), ((6, 2), 1), ((3, 4), 1), ((3, 6), 1), ((6, 5), 1), ((4, 1), 1)}, {((0, 5), 0)}, set(), {((0, 3), 1), ((6, 2), 1), ((3, 4), 1), ((6, 5), 1), ((4, 1), 1)}], [{((0, 5), 2), ((4, 1), 2), ((0, 3), 2), ((0, 2), 2), ((3, 6), 2), ((3, 4), 2)}, {((2, 6), 0)}, set(), {((0, 5), 2), ((4, 1), 2), ((0, 3), 2), ((0, 2), 2), ((3, 4), 2)}]], [[set(), set(), set(), set()], [{((0, 3), 1), ((6, 2), 1), ((3, 4), 1), ((3, 6), 1), ((6, 5), 1), ((4, 1), 1)}, {((0, 2), 2), ((0, 5), 0), ((0, 5), 2)}, set(), {((0, 3), 1), ((6, 2), 1), ((3, 4), 1), ((3, 6), 1), ((4, 1), 1)}], [set(), set(), set(), set()]]]\n"
     ]
    }
   ],
   "source": [
    "### COMPLETE CNF LISTS ### TODO\n",
    "\n",
    "edge_index_map = {}\n",
    "for i, edge in enumerate(G.edges()):\n",
    "    edge_index_map[edge] = i\n",
    "    # Store reversed edge as well\n",
    "    edge_index_map[(edge[1], edge[0])] = i\n",
    "\n",
    "cycle_index_map = {}\n",
    "for i, c in enumerate(fundamental_cycles):\n",
    "    cycle_index_map[tuple(c)] = i\n",
    "\n",
    "CNF_lists = solver_CNF.update_CNF_iterative(\n",
    "    CNF_lists, G, fundamental_cycles, edge_index_map, cycle_index_map\n",
    ")\n",
    "print(CNF_lists)"
   ]
  },
  {
   "cell_type": "code",
   "execution_count": 11,
   "id": "9997558e-be14-44de-bd59-77648ec3e727",
   "metadata": {},
   "outputs": [],
   "source": [
    "### PRINT CNF LISTS ### TODO"
   ]
  },
  {
   "cell_type": "code",
   "execution_count": 12,
   "id": "6419e5f5-e25a-41a9-a23e-dba94f513652",
   "metadata": {},
   "outputs": [],
   "source": [
    "### GET PSEUDOEMBEDDING ###"
   ]
  },
  {
   "cell_type": "code",
   "execution_count": 13,
   "id": "ca02bfa9-a0f3-492d-a08e-38d43d6388f0",
   "metadata": {},
   "outputs": [],
   "source": [
    "### GET NEW PERIPHERAL CYCLE BASIS ###"
   ]
  },
  {
   "cell_type": "code",
   "execution_count": 14,
   "id": "b48ee89d-53c7-49d1-bcf0-0daa82354360",
   "metadata": {},
   "outputs": [],
   "source": [
    "### GET PLANE MESH AND CHECK PLANARITY ###"
   ]
  }
 ],
 "metadata": {
  "kernelspec": {
   "display_name": "Python 3 (ipykernel)",
   "language": "python",
   "name": "python3"
  },
  "language_info": {
   "codemirror_mode": {
    "name": "ipython",
    "version": 3
   },
   "file_extension": ".py",
   "mimetype": "text/x-python",
   "name": "python",
   "nbconvert_exporter": "python",
   "pygments_lexer": "ipython3",
   "version": "3.11.11"
  }
 },
 "nbformat": 4,
 "nbformat_minor": 5
}
