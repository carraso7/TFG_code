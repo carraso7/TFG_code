{
 "cells": [
  {
   "cell_type": "code",
   "execution_count": 1,
   "id": "074282a0-f364-40b5-912b-16f9e33ff118",
   "metadata": {},
   "outputs": [
    {
     "name": "stdout",
     "output_type": "stream",
     "text": [
      "Testing Planar Graph:\n",
      "Nodes: [0, 1, 2, 3, 4, 5]\n",
      "Edges: [(0, 5), (0, 4), (0, 1), (1, 2), (1, 4), (1, 3), (3, 4), (4, 5)]\n",
      "false por plane mesh mala\n",
      "NetworkX: True, Your method: False, Match: False\n",
      "\n",
      "Testing Non-Planar Graph:\n",
      "Nodes: [0, 1, 2, 3, 4, 5, 6, 7]\n",
      "Edges: [(0, 3), (0, 4), (1, 3), (1, 6), (1, 7), (2, 7), (2, 3), (2, 6), (3, 7), (3, 5), (4, 6), (4, 7), (6, 7)]\n",
      "false por plane mesh mala\n",
      "NetworkX: False, Your method: False, Match: True\n"
     ]
    }
   ],
   "source": [
    "import networkx as nx\n",
    "import random\n",
    "\n",
    "# Import your solver class\n",
    "from planarity_criterion import PlanarityCriterion  # Replace with your actual module name if different\n",
    "\n",
    "# Initialize solver\n",
    "solver = PlanarityCriterion()\n",
    "\n",
    "# Set a fixed seed for reproducibility\n",
    "seed = 41\n",
    "\n",
    "# === Planar graph ===\n",
    "# We'll generate a random graph and filter until we get one planar graph\n",
    "random.seed(seed)\n",
    "planar_graph = None\n",
    "trials = 0\n",
    "while planar_graph is None:\n",
    "    n = random.randint(5, 10)\n",
    "    m = random.randint(n, n * (n - 1) // 2)\n",
    "    G = nx.gnm_random_graph(n, m, seed=seed + trials)\n",
    "    is_planar, _ = nx.check_planarity(G)\n",
    "    if is_planar:\n",
    "        planar_graph = G\n",
    "    trials += 1\n",
    "\n",
    "# === Non-planar graph ===\n",
    "# Similarly generate a non-planar graph\n",
    "random.seed(seed + 1000)\n",
    "nonplanar_graph = None\n",
    "trials = 0\n",
    "while nonplanar_graph is None:\n",
    "    n = random.randint(5, 10)\n",
    "    m = random.randint(n, n * (n - 1) // 2)\n",
    "    G = nx.gnm_random_graph(n, m, seed=seed + 1000 + trials)\n",
    "    is_planar, _ = nx.check_planarity(G)\n",
    "    if not is_planar:\n",
    "        nonplanar_graph = G\n",
    "    trials += 1\n",
    "\n",
    "# === Test Planar Graph ===\n",
    "print(\"Testing Planar Graph:\")\n",
    "print(\"Nodes:\", planar_graph.nodes())\n",
    "print(\"Edges:\", planar_graph.edges())\n",
    "try:\n",
    "    my_result, info = solver.is_planar(planar_graph)\n",
    "except Exception as e:\n",
    "    my_result = f\"Error: {e}\"\n",
    "nx_result, _ = nx.check_planarity(planar_graph)\n",
    "print(f\"NetworkX: {nx_result}, Your method: {my_result}, Match: {my_result == nx_result}\")\n",
    "\n",
    "# === Test Non-Planar Graph ===\n",
    "print(\"\\nTesting Non-Planar Graph:\")\n",
    "print(\"Nodes:\", nonplanar_graph.nodes())\n",
    "print(\"Edges:\", nonplanar_graph.edges())\n",
    "try:\n",
    "    my_result, info = solver.is_planar(nonplanar_graph)\n",
    "except Exception as e:\n",
    "    my_result = f\"Error: {e}\"\n",
    "nx_result, _ = nx.check_planarity(nonplanar_graph)\n",
    "print(f\"NetworkX: {nx_result}, Your method: {my_result}, Match: {my_result == nx_result}\")\n",
    "\n"
   ]
  }
 ],
 "metadata": {
  "kernelspec": {
   "display_name": "Python 3 (ipykernel)",
   "language": "python",
   "name": "python3"
  },
  "language_info": {
   "codemirror_mode": {
    "name": "ipython",
    "version": 3
   },
   "file_extension": ".py",
   "mimetype": "text/x-python",
   "name": "python",
   "nbconvert_exporter": "python",
   "pygments_lexer": "ipython3",
   "version": "3.11.11"
  }
 },
 "nbformat": 4,
 "nbformat_minor": 5
}
