{
 "cells": [
  {
   "cell_type": "code",
   "execution_count": 1,
   "id": "7497aaf6-7d32-4cfe-a593-c6d6800fd3a0",
   "metadata": {},
   "outputs": [],
   "source": [
    "import sys\n",
    "sys.path.append('./paralel_planarity_criterion')\n",
    "\n",
    "import numpy as np\n",
    "import random, time\n",
    "\n",
    "import paralel_methods as pm\n",
    "from SAT2_solver import SAT2_solver"
   ]
  },
  {
   "cell_type": "code",
   "execution_count": 2,
   "id": "07ebd585-11ad-4b69-8128-95ac915926fb",
   "metadata": {},
   "outputs": [
    {
     "name": "stdout",
     "output_type": "stream",
     "text": [
      "Using seed: 3773325877\n"
     ]
    }
   ],
   "source": [
    "# 🎲 Generate a random seed\n",
    "seed = random.randint(0, 2**32 - 1)\n",
    "print(\"Using seed:\", seed)\n",
    "\n",
    "# 🌱 Seed NumPy’s RNG\n",
    "np.random.seed(seed)"
   ]
  },
  {
   "cell_type": "code",
   "execution_count": 28,
   "id": "6e3e176c-fc1b-4227-826b-7a837618e3f2",
   "metadata": {},
   "outputs": [
    {
     "name": "stdout",
     "output_type": "stream",
     "text": [
      "\n",
      "Matriz A:\n",
      "[[1 1 1 ... 1 0 0]\n",
      " [1 0 0 ... 1 1 0]\n",
      " [1 0 0 ... 0 1 1]\n",
      " ...\n",
      " [1 1 1 ... 1 0 1]\n",
      " [1 1 0 ... 0 0 1]\n",
      " [1 0 0 ... 1 0 1]]\n",
      "\n",
      "Matriz B:\n",
      "[[1 1 1 ... 1 1 1]\n",
      " [1 0 0 ... 1 1 0]\n",
      " [1 0 0 ... 1 0 0]\n",
      " ...\n",
      " [1 1 0 ... 1 0 1]\n",
      " [0 1 1 ... 0 0 0]\n",
      " [0 0 1 ... 1 1 1]]\n",
      "\n",
      "----------------------------\n",
      "Paralel GPU implementation\n",
      "GPU OR-AND Time: 84.99 ms\n",
      "Type of C: <class 'numpy.ndarray'>\n",
      "\n",
      "Resultado C (OR-AND):\n",
      "[[1 1 1 ... 1 1 1]\n",
      " [1 1 1 ... 1 1 1]\n",
      " [1 1 1 ... 1 1 1]\n",
      " ...\n",
      " [1 1 1 ... 1 1 1]\n",
      " [1 1 1 ... 1 1 1]\n",
      " [1 1 1 ... 1 1 1]]\n",
      "\n",
      "--------------------------\n",
      "Sequential CPU implementation\n",
      "CPU OR-AND Time: 531.77 ms\n",
      "Type of C: <class 'list'>\n",
      "\n",
      "Resultado C (OR-AND):\n",
      "[[1 1 1 ... 1 1 1]\n",
      " [1 1 1 ... 1 1 1]\n",
      " [1 1 1 ... 1 1 1]\n",
      " ...\n",
      " [1 1 1 ... 1 1 1]\n",
      " [1 1 1 ... 1 1 1]\n",
      " [1 1 1 ... 1 1 1]]\n"
     ]
    }
   ],
   "source": [
    "N = 200 # With N=200 GPU is faster. From 257 We get clEnqueueNDRangeKernel failed: INVALID_WORK_GROUP_SIZE\n",
    "A = np.random.randint(0, 2, size=(N, N)).astype(np.int8)\n",
    "B = A.T.copy() \n",
    "\n",
    "start_cpu = time.perf_counter()\n",
    "C_paralel = pm.multiply_or_and(A, B)\n",
    "end_cpu = time.perf_counter()\n",
    "\n",
    "print(\"\\nMatriz A:\")\n",
    "print(A)\n",
    "print(\"\\nMatriz B:\")\n",
    "print(B)\n",
    "print()\n",
    "print(\"----------------------------\")\n",
    "print(\"Paralel GPU implementation\")\n",
    "print(f\"GPU OR-AND Time: {(end_cpu - start_cpu)*1000:.2f} ms\")\n",
    "print(\"Type of C:\", type(C_paralel))\n",
    "print(\"\\nResultado C (OR-AND):\")\n",
    "print(C_paralel)\n",
    "\n",
    "\n",
    "# --- CPU: Pure Python ---\n",
    "solver = SAT2_solver()\n",
    "\n",
    "start_cpu = time.time()\n",
    "C_sequential = solver.mult_matrix_or_and(A.tolist(), B.tolist())  # Convert np arrays to lists\n",
    "end_cpu = time.time()\n",
    "\n",
    "print()\n",
    "print(\"--------------------------\")\n",
    "print(\"Sequential CPU implementation\")\n",
    "print(f\"CPU OR-AND Time: {(end_cpu - start_cpu)*1000:.2f} ms\")\n",
    "print(\"Type of C:\", type(C_sequential))\n",
    "print(\"\\nResultado C (OR-AND):\")\n",
    "print(np.array(C_sequential, dtype=np.int8))"
   ]
  }
 ],
 "metadata": {
  "kernelspec": {
   "display_name": "Python 3 (ipykernel)",
   "language": "python",
   "name": "python3"
  },
  "language_info": {
   "codemirror_mode": {
    "name": "ipython",
    "version": 3
   },
   "file_extension": ".py",
   "mimetype": "text/x-python",
   "name": "python",
   "nbconvert_exporter": "python",
   "pygments_lexer": "ipython3",
   "version": "3.11.11"
  }
 },
 "nbformat": 4,
 "nbformat_minor": 5
}
