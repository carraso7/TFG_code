{
 "cells": [
  {
   "cell_type": "code",
   "execution_count": 1,
   "id": "7497aaf6-7d32-4cfe-a593-c6d6800fd3a0",
   "metadata": {},
   "outputs": [],
   "source": [
    "import sys\n",
    "sys.path.append('./paralel_planarity_criterion')\n",
    "\n",
    "import numpy as np\n",
    "import random, time\n",
    "\n",
    "import paralel_methods as pm\n",
    "from SAT2_solver import SAT2_solver"
   ]
  },
  {
   "cell_type": "code",
   "execution_count": 2,
   "id": "07ebd585-11ad-4b69-8128-95ac915926fb",
   "metadata": {},
   "outputs": [
    {
     "name": "stdout",
     "output_type": "stream",
     "text": [
      "Using seed: 2163587941\n"
     ]
    }
   ],
   "source": [
    "# 🎲 Generate a random seed\n",
    "seed = random.randint(0, 2**32 - 1)\n",
    "print(\"Using seed:\", seed)\n",
    "\n",
    "# 🌱 Seed NumPy’s RNG\n",
    "np.random.seed(seed)"
   ]
  },
  {
   "cell_type": "code",
   "execution_count": 3,
   "id": "6e3e176c-fc1b-4227-826b-7a837618e3f2",
   "metadata": {},
   "outputs": [
    {
     "name": "stdout",
     "output_type": "stream",
     "text": [
      "\n",
      "Matriz A:\n",
      "[[0 0 1 ... 1 0 1]\n",
      " [1 1 0 ... 1 0 0]\n",
      " [0 1 0 ... 0 0 0]\n",
      " ...\n",
      " [1 0 0 ... 1 0 1]\n",
      " [1 1 1 ... 1 0 1]\n",
      " [0 0 1 ... 1 1 1]]\n",
      "\n",
      "Matriz B:\n",
      "[[0 1 0 ... 1 1 0]\n",
      " [0 1 1 ... 0 1 0]\n",
      " [1 0 0 ... 0 1 1]\n",
      " ...\n",
      " [1 1 0 ... 1 1 1]\n",
      " [0 0 0 ... 0 0 1]\n",
      " [1 0 0 ... 1 1 1]]\n",
      "\n",
      "----------------------------\n",
      "Paralel GPU implementation\n",
      "GPU OR-AND Time: 826.52 ms\n",
      "Type of C: <class 'numpy.ndarray'>\n",
      "\n",
      "Resultado C (OR-AND):\n",
      "[[1 1 1 ... 1 1 1]\n",
      " [1 1 1 ... 1 1 1]\n",
      " [1 1 1 ... 1 1 1]\n",
      " ...\n",
      " [1 1 1 ... 1 1 1]\n",
      " [1 1 1 ... 1 1 1]\n",
      " [1 1 1 ... 1 1 1]]\n",
      "\n",
      "--------------------------\n",
      "Sequential CPU implementation\n",
      "CPU OR-AND Time: 1022.00 ms\n",
      "Type of C: <class 'list'>\n",
      "\n",
      "Resultado C (OR-AND):\n",
      "[[1 1 1 ... 1 1 1]\n",
      " [1 1 1 ... 1 1 1]\n",
      " [1 1 1 ... 1 1 1]\n",
      " ...\n",
      " [1 1 1 ... 1 1 1]\n",
      " [1 1 1 ... 1 1 1]\n",
      " [1 1 1 ... 1 1 1]]\n"
     ]
    }
   ],
   "source": [
    "N = 250 # With N=200 GPU is faster. From 257 We get clEnqueueNDRangeKernel failed: INVALID_WORK_GROUP_SIZE\n",
    "A = np.random.randint(0, 2, size=(N, N)).astype(np.int8)\n",
    "B = A.T.copy() \n",
    "\n",
    "start_cpu = time.perf_counter()\n",
    "C_paralel = pm.multiply_or_and(A, B)\n",
    "end_cpu = time.perf_counter()\n",
    "\n",
    "print(\"\\nMatriz A:\")\n",
    "print(A)\n",
    "print(\"\\nMatriz B:\")\n",
    "print(B)\n",
    "print()\n",
    "print(\"----------------------------\")\n",
    "print(\"Paralel GPU implementation\")\n",
    "print(f\"GPU OR-AND Time: {(end_cpu - start_cpu)*1000:.2f} ms\")\n",
    "print(\"Type of C:\", type(C_paralel))\n",
    "print(\"\\nResultado C (OR-AND):\")\n",
    "print(C_paralel)\n",
    "\n",
    "\n",
    "# --- CPU: Pure Python ---\n",
    "solver = SAT2_solver()\n",
    "\n",
    "start_cpu = time.time()\n",
    "C_sequential = solver.mult_matrix_or_and(A.tolist(), B.tolist())  # Convert np arrays to lists\n",
    "end_cpu = time.time()\n",
    "\n",
    "print()\n",
    "print(\"--------------------------\")\n",
    "print(\"Sequential CPU implementation\")\n",
    "print(f\"CPU OR-AND Time: {(end_cpu - start_cpu)*1000:.2f} ms\")\n",
    "print(\"Type of C:\", type(C_sequential))\n",
    "print(\"\\nResultado C (OR-AND):\")\n",
    "print(np.array(C_sequential, dtype=np.int8))"
   ]
  },
  {
   "cell_type": "code",
   "execution_count": 4,
   "id": "811aad03-5de8-4b8a-b984-0840f5f9810f",
   "metadata": {},
   "outputs": [
    {
     "name": "stdout",
     "output_type": "stream",
     "text": [
      "\n",
      "================== RESULTADOS FINALES ==================\n",
      " Tamaño de Matriz  Tiempo Promedio GPU (ms)  Tiempo Promedio CPU (ms)\n",
      "               10                  25.35326                   0.33418\n",
      "               30                  25.11590                   2.84716\n",
      "               50                  25.89030                   9.44762\n",
      "               70                  25.65770                  24.42990\n",
      "               90                  26.95348                  50.80702\n",
      "              110                  33.16448                  97.58426\n",
      "              130                  37.79830                 150.53772\n",
      "              150                  42.80240                 230.70142\n",
      "              170                  66.22094                 325.98122\n",
      "              190                  64.64436                 455.01690\n",
      "              210                  91.85060                 636.66090\n",
      "              230                 102.73146                 824.46190\n",
      "              250                 132.09476                1068.92046\n"
     ]
    }
   ],
   "source": [
    "import numpy as np\n",
    "import time\n",
    "from SAT2_solver import SAT2_solver\n",
    "import pandas as pd\n",
    "\n",
    "solver = SAT2_solver()\n",
    "\n",
    "# Parámetros\n",
    "sizes = list(range(10, 251, 20))  # Tamaños de matriz desde 10 hasta 250 en pasos de 20\n",
    "repeticiones = 5  # Número de repeticiones por tamaño\n",
    "\n",
    "# Resultados acumulados\n",
    "resultados = []\n",
    "\n",
    "for N in sizes:\n",
    "    tiempos_gpu = []\n",
    "    tiempos_cpu = []\n",
    "    \n",
    "    for _ in range(repeticiones):\n",
    "        A = np.random.randint(0, 2, size=(N, N)).astype(np.int8)\n",
    "        B = A.T.copy()\n",
    "\n",
    "        # GPU Paralelo (simulado)\n",
    "        start_gpu = time.perf_counter()\n",
    "        _ = pm.multiply_or_and(A, B)\n",
    "        end_gpu = time.perf_counter()\n",
    "        tiempos_gpu.append((end_gpu - start_gpu) * 1000)\n",
    "\n",
    "        # CPU Secuencial\n",
    "        start_cpu = time.perf_counter()\n",
    "        _ = solver.mult_matrix_or_and(A.tolist(), B.tolist())\n",
    "        end_cpu = time.perf_counter()\n",
    "        tiempos_cpu.append((end_cpu - start_cpu) * 1000)\n",
    "\n",
    "    resultados.append({\n",
    "        \"Tamaño de Matriz\": N,\n",
    "        \"Tiempo Promedio GPU (ms)\": np.mean(tiempos_gpu),\n",
    "        \"Tiempo Promedio CPU (ms)\": np.mean(tiempos_cpu)\n",
    "    })\n",
    "\n",
    "# Mostrar resultados como tabla\n",
    "df = pd.DataFrame(resultados)\n",
    "print(\"\\n================== RESULTADOS FINALES ==================\")\n",
    "print(df.to_string(index=False))\n",
    "\n"
   ]
  }
 ],
 "metadata": {
  "kernelspec": {
   "display_name": "Python 3 (ipykernel)",
   "language": "python",
   "name": "python3"
  },
  "language_info": {
   "codemirror_mode": {
    "name": "ipython",
    "version": 3
   },
   "file_extension": ".py",
   "mimetype": "text/x-python",
   "name": "python",
   "nbconvert_exporter": "python",
   "pygments_lexer": "ipython3",
   "version": "3.11.11"
  }
 },
 "nbformat": 4,
 "nbformat_minor": 5
}
