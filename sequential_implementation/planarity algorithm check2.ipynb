{
 "cells": [
  {
   "cell_type": "code",
   "execution_count": 1,
   "id": "eaa61580-10fd-4c17-8591-5ac7a2a6c6da",
   "metadata": {},
   "outputs": [],
   "source": [
    "import sys\n",
    "sys.path.append('./paralel_planarity_criterion')"
   ]
  },
  {
   "cell_type": "code",
   "execution_count": 2,
   "id": "074282a0-f364-40b5-912b-16f9e33ff118",
   "metadata": {},
   "outputs": [
    {
     "name": "stdout",
     "output_type": "stream",
     "text": [
      "Testing Planar Graph:\n",
      "Nodes: [0, 1, 2, 3, 4, 5]\n",
      "Edges: [(0, 1), (0, 2), (0, 3), (0, 4), (1, 2), (1, 3), (1, 5), (2, 4), (2, 5), (3, 4), (3, 5), (4, 5)]\n",
      "NetworkX: True, Your method: True, Match: True\n"
     ]
    }
   ],
   "source": [
    "import networkx as nx\n",
    "import random\n",
    "\n",
    "# Import your solver class\n",
    "from planarity_criterion import PlanarityCriterion  # Replace with your actual module name if different\n",
    "\n",
    "# Initialize solver\n",
    "solver = PlanarityCriterion()\n",
    "\n",
    "# Set a fixed seed for reproducibility\n",
    "seed = 41\n",
    "\n",
    "planar_graph =  nx.octahedral_graph()\n",
    "\n",
    "# === Test Planar Graph ===\n",
    "print(\"Testing Planar Graph:\")\n",
    "print(\"Nodes:\", planar_graph.nodes())\n",
    "print(\"Edges:\", planar_graph.edges())\n",
    "my_result, info = solver.is_planar(planar_graph)\n",
    "nx_result, _ = nx.check_planarity(planar_graph)\n",
    "print(f\"NetworkX: {nx_result}, Your method: {my_result}, Match: {my_result == nx_result}\")\n",
    "\n"
   ]
  },
  {
   "cell_type": "code",
   "execution_count": 3,
   "id": "60d6004a-487a-44e3-839f-c19249ed4d0a",
   "metadata": {},
   "outputs": [
    {
     "name": "stdout",
     "output_type": "stream",
     "text": [
      "Testing Planar Graph:\n",
      "Nodes: [0, 1, 2, 3, 4, 5]\n",
      "Edges: [(0, 5), (0, 4), (0, 1), (1, 2), (1, 4), (1, 3), (3, 4), (4, 5)]\n",
      "NetworkX: True, Your method: True, Match: True\n",
      "{'relation_T': [[(0, 1, 4), (0, 4, 5), (1, 3, 4)]], 'relation_R': [[[True, True, False, True, True], [True, True, True, True, False], [False, True, True, True, False], [True, True, True, True, True], [True, False, False, True, True]]], 'connected_components': [{(0, 4): {1: 0, 3: 0, 5: 1}, (1, 4): {0: 0, 5: 0, 3: 1}}], 'sep_pairs': [[(0, 4), (1, 4)]], 'TCCs': [{'node_list': frozenset({0, 4, 5}), 'virtual_edges': []}, {'node_list': frozenset({0, 1, 4}), 'virtual_edges': []}, {'node_list': frozenset({1, 3, 4}), 'virtual_edges': []}], 'planarity_info': [{'A1': [[1, 0, 0, 0, 0, 0], [0, 1, 0, 0, 0, 0], [0, 0, 1, 0, 0, 0], [0, 0, 0, 1, 0, 0], [0, 0, 0, 0, 1, 0], [0, 0, 0, 0, 0, 1]], 'B1': [[0, -inf, -inf, -inf, -inf, -inf], [-inf, 0, -inf, -inf, -inf, -inf], [-inf, -inf, 0, -inf, -inf, -inf], [-inf, -inf, -inf, 0, -inf, -inf], [-inf, -inf, -inf, -inf, 0, -inf], [-inf, -inf, -inf, -inf, -inf, 0]], 'edge_index_map': {(0, 5): 0, (5, 0): 0, (0, 4): 1, (4, 0): 1, (4, 5): 2, (5, 4): 2}, 'cycle_index_map': {(4, 0, 5, 4): 0}, 'index_cycle_map': {0: [4, 0, 5, 4]}, 'truth_assign': [True, True, True], 'rel_in': [[0]], 'rel_lt': [[0]], 'periph_basis_lists': [[0, 4, 5, 0]], 'periph_basis': [[(0, 4), (0, 5), (4, 5)]], 'plane_mesh': [[(0, 4), (0, 5), (4, 5)], [(4, 5), (0, 4), (0, 5)]], 'edges_count': {(0, 5): 2, (0, 4): 2, (4, 5): 2}}, {'A1': [[1, 0, 0, 0, 0, 0], [0, 1, 0, 0, 0, 0], [0, 0, 1, 0, 0, 0], [0, 0, 0, 1, 0, 0], [0, 0, 0, 0, 1, 0], [0, 0, 0, 0, 0, 1]], 'B1': [[0, -inf, -inf, -inf, -inf, -inf], [-inf, 0, -inf, -inf, -inf, -inf], [-inf, -inf, 0, -inf, -inf, -inf], [-inf, -inf, -inf, 0, -inf, -inf], [-inf, -inf, -inf, -inf, 0, -inf], [-inf, -inf, -inf, -inf, -inf, 0]], 'edge_index_map': {(0, 4): 0, (4, 0): 0, (0, 1): 1, (1, 0): 1, (1, 4): 2, (4, 1): 2}, 'cycle_index_map': {(1, 0, 4, 1): 0}, 'index_cycle_map': {0: [1, 0, 4, 1]}, 'truth_assign': [True, True, True], 'rel_in': [[0]], 'rel_lt': [[0]], 'periph_basis_lists': [[0, 1, 4, 0]], 'periph_basis': [[(0, 1), (0, 4), (1, 4)]], 'plane_mesh': [[(0, 1), (0, 4), (1, 4)], [(0, 1), (0, 4), (1, 4)]], 'edges_count': {(0, 4): 2, (0, 1): 2, (1, 4): 2}}, {'A1': [[1, 0, 0, 0, 0, 0], [0, 1, 0, 0, 0, 0], [0, 0, 1, 0, 0, 0], [0, 0, 0, 1, 0, 0], [0, 0, 0, 0, 1, 0], [0, 0, 0, 0, 0, 1]], 'B1': [[0, -inf, -inf, -inf, -inf, -inf], [-inf, 0, -inf, -inf, -inf, -inf], [-inf, -inf, 0, -inf, -inf, -inf], [-inf, -inf, -inf, 0, -inf, -inf], [-inf, -inf, -inf, -inf, 0, -inf], [-inf, -inf, -inf, -inf, -inf, 0]], 'edge_index_map': {(1, 4): 0, (4, 1): 0, (1, 3): 1, (3, 1): 1, (3, 4): 2, (4, 3): 2}, 'cycle_index_map': {(1, 4, 3, 1): 0}, 'index_cycle_map': {0: [1, 4, 3, 1]}, 'truth_assign': [True, True, True], 'rel_in': [[0]], 'rel_lt': [[0]], 'periph_basis_lists': [[1, 4, 3, 1]], 'periph_basis': [[(1, 4), (3, 4), (1, 3)]], 'plane_mesh': [[(1, 4), (3, 4), (1, 3)], [(1, 3), (3, 4), (1, 4)]], 'edges_count': {(1, 4): 2, (1, 3): 2, (3, 4): 2}}], 'Failing_tcc': 'No info', 'failing_reason': 'No info', 'failing edge': 'No info'}\n",
      "\n",
      "Testing Non-Planar Graph:\n",
      "Nodes: [0, 1, 2, 3, 4, 5, 6, 7]\n",
      "Edges: [(0, 3), (0, 4), (1, 3), (1, 6), (1, 7), (2, 7), (2, 3), (2, 6), (3, 7), (3, 5), (4, 6), (4, 7), (6, 7)]\n",
      "NetworkX: False, Your method: False, Match: True\n"
     ]
    }
   ],
   "source": [
    "import networkx as nx\n",
    "import random\n",
    "\n",
    "# Import your solver class\n",
    "from planarity_criterion import PlanarityCriterion  # Replace with your actual module name if different\n",
    "\n",
    "# Initialize solver\n",
    "solver = PlanarityCriterion()\n",
    "\n",
    "# Set a fixed seed for reproducibility\n",
    "seed = 41\n",
    "\n",
    "# === Planar graph ===\n",
    "# We'll generate a random graph and filter until we get one planar graph\n",
    "random.seed(seed)\n",
    "planar_graph = None\n",
    "trials = 0\n",
    "while planar_graph is None:\n",
    "    n = random.randint(5, 10)\n",
    "    m = random.randint(n, n * (n - 1) // 2)\n",
    "    G = nx.gnm_random_graph(n, m, seed=seed + trials)\n",
    "    is_planar, _ = nx.check_planarity(G)\n",
    "    if is_planar:\n",
    "        planar_graph = G\n",
    "    trials += 1\n",
    "\n",
    "# === Non-planar graph ===\n",
    "# Similarly generate a non-planar graph\n",
    "random.seed(seed + 1000)\n",
    "nonplanar_graph = None\n",
    "trials = 0\n",
    "while nonplanar_graph is None:\n",
    "    n = random.randint(5, 10)\n",
    "    m = random.randint(n, n * (n - 1) // 2)\n",
    "    G = nx.gnm_random_graph(n, m, seed=seed + 1000 + trials)\n",
    "    is_planar, _ = nx.check_planarity(G)\n",
    "    if not is_planar:\n",
    "        nonplanar_graph = G\n",
    "    trials += 1\n",
    "\n",
    "# === Test Planar Graph ===\n",
    "print(\"Testing Planar Graph:\")\n",
    "print(\"Nodes:\", planar_graph.nodes())\n",
    "print(\"Edges:\", planar_graph.edges())\n",
    "try:\n",
    "    my_result, info = solver.is_planar(planar_graph)\n",
    "except Exception as e:\n",
    "    my_result = f\"Error: {e}\"\n",
    "nx_result, _ = nx.check_planarity(planar_graph)\n",
    "print(f\"NetworkX: {nx_result}, Your method: {my_result}, Match: {my_result == nx_result}\")\n",
    "print(info)\n",
    "#print(info[\"failing tcc\"].nodes(), info[\"failing tcc\"].edges())\n",
    "\n",
    "# === Test Non-Planar Graph ===\n",
    "print(\"\\nTesting Non-Planar Graph:\")\n",
    "print(\"Nodes:\", nonplanar_graph.nodes())\n",
    "print(\"Edges:\", nonplanar_graph.edges())\n",
    "try:\n",
    "    my_result, info = solver.is_planar(nonplanar_graph)\n",
    "except Exception as e:\n",
    "    my_result = f\"Error: {e}\"\n",
    "nx_result, _ = nx.check_planarity(nonplanar_graph)\n",
    "print(f\"NetworkX: {nx_result}, Your method: {my_result}, Match: {my_result == nx_result}\")\n",
    "\n"
   ]
  }
 ],
 "metadata": {
  "kernelspec": {
   "display_name": "Python 3 (ipykernel)",
   "language": "python",
   "name": "python3"
  },
  "language_info": {
   "codemirror_mode": {
    "name": "ipython",
    "version": 3
   },
   "file_extension": ".py",
   "mimetype": "text/x-python",
   "name": "python",
   "nbconvert_exporter": "python",
   "pygments_lexer": "ipython3",
   "version": "3.11.11"
  }
 },
 "nbformat": 4,
 "nbformat_minor": 5
}
